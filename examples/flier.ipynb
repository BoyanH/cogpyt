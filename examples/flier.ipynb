{
 "cells": [
  {
   "cell_type": "code",
   "execution_count": 1,
   "id": "1f5414e9",
   "metadata": {
    "pycharm": {
     "name": "#%%\n"
    }
   },
   "outputs": [],
   "source": [
    "from _flier_functions import generated_printer\n",
    "from _utils import show_implementation"
   ]
  },
  {
   "cell_type": "code",
   "execution_count": 2,
   "id": "816fc145",
   "metadata": {
    "pycharm": {
     "name": "#%%\n"
    }
   },
   "outputs": [
    {
     "data": {
      "text/markdown": [
       "```py\n",
       "@cogpyt.GeneratedFunction\n",
       "def generated_printer(\n",
       "        generated_code_block: cogpyt.GeneratedCodeBlock,\n",
       "        amount: int,\n",
       "):\n",
       "    for i in range(amount):\n",
       "        with generated_code_block:\n",
       "            print(i)\n",
       "\n",
       "```"
      ],
      "text/plain": [
       "<IPython.core.display.Markdown object>"
      ]
     },
     "metadata": {},
     "output_type": "display_data"
    }
   ],
   "source": [
    "show_implementation(generated_printer)"
   ]
  },
  {
   "cell_type": "code",
   "execution_count": 3,
   "id": "bc8fd206",
   "metadata": {},
   "outputs": [
    {
     "data": {
      "text/markdown": [
       "```py\n",
       "def generated_printer(amount):\n",
       "    print(0)\n",
       "    print(1)\n",
       "    print(2)\n",
       "```"
      ],
      "text/plain": [
       "<IPython.core.display.Markdown object>"
      ]
     },
     "metadata": {},
     "output_type": "display_data"
    }
   ],
   "source": [
    "show_implementation(generated_printer.get_source(3))"
   ]
  },
  {
   "cell_type": "code",
   "execution_count": 4,
   "id": "ca4921d6",
   "metadata": {},
   "outputs": [
    {
     "name": "stdout",
     "output_type": "stream",
     "text": [
      "0\n",
      "1\n",
      "2\n",
      "3\n",
      "4\n"
     ]
    }
   ],
   "source": [
    "generated_printer(5)"
   ]
  },
  {
   "cell_type": "code",
   "execution_count": null,
   "id": "21f88942",
   "metadata": {},
   "outputs": [],
   "source": []
  }
 ],
 "metadata": {
  "kernelspec": {
   "display_name": "Python 3.10 (cogpyt)",
   "language": "python",
   "name": "cogpyt"
  },
  "language_info": {
   "codemirror_mode": {
    "name": "ipython",
    "version": 3
   },
   "file_extension": ".py",
   "mimetype": "text/x-python",
   "name": "python",
   "nbconvert_exporter": "python",
   "pygments_lexer": "ipython3",
   "version": "3.10.5"
  }
 },
 "nbformat": 4,
 "nbformat_minor": 5
}
